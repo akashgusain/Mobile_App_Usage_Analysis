{
 "cells": [
  {
   "cell_type": "code",
   "execution_count": 29,
   "metadata": {
    "collapsed": true
   },
   "outputs": [
    {
     "data": {
      "text/plain": "        device_id  gender_id_left                    app_name minutes  \\\n0      B-52-52155             2.0  Amazon Mobile (Mobile App)  0.0378   \n1       B-52-9082             2.0  Amazon Mobile (Mobile App)  0.0756   \n2      B-52-20729             1.0  Amazon Mobile (Mobile App)  0.0756   \n3      B-52-38817             2.0  Amazon Mobile (Mobile App)  0.0756   \n4      B-52-49381             2.0  Amazon Mobile (Mobile App)  0.1134   \n...           ...             ...                         ...     ...   \n22435  B-52-17765             2.0        YouTube (Mobile App)     NaN   \n22436  B-52-12350             2.0        YouTube (Mobile App)     NaN   \n22437  B-52-30742             2.0        YouTube (Mobile App)     NaN   \n22438  B-52-16701             2.0        YouTube (Mobile App)     NaN   \n22439  B-52-41743             1.0        YouTube (Mobile App)     NaN   \n\n          Publisher  gender_id_right  \n0      Amazon Sites              2.0  \n1      Amazon Sites              2.0  \n2      Amazon Sites              2.0  \n3      Amazon Sites              2.0  \n4      Amazon Sites              2.0  \n...             ...              ...  \n22435  Google Sites              2.0  \n22436  Google Sites              2.0  \n22437  Google Sites              2.0  \n22438  Google Sites              2.0  \n22439  Google Sites              2.0  \n\n[22440 rows x 6 columns]",
      "text/html": "<div>\n<style scoped>\n    .dataframe tbody tr th:only-of-type {\n        vertical-align: middle;\n    }\n\n    .dataframe tbody tr th {\n        vertical-align: top;\n    }\n\n    .dataframe thead th {\n        text-align: right;\n    }\n</style>\n<table border=\"1\" class=\"dataframe\">\n  <thead>\n    <tr style=\"text-align: right;\">\n      <th></th>\n      <th>device_id</th>\n      <th>gender_id_left</th>\n      <th>app_name</th>\n      <th>minutes</th>\n      <th>Publisher</th>\n      <th>gender_id_right</th>\n    </tr>\n  </thead>\n  <tbody>\n    <tr>\n      <th>0</th>\n      <td>B-52-52155</td>\n      <td>2.0</td>\n      <td>Amazon Mobile (Mobile App)</td>\n      <td>0.0378</td>\n      <td>Amazon Sites</td>\n      <td>2.0</td>\n    </tr>\n    <tr>\n      <th>1</th>\n      <td>B-52-9082</td>\n      <td>2.0</td>\n      <td>Amazon Mobile (Mobile App)</td>\n      <td>0.0756</td>\n      <td>Amazon Sites</td>\n      <td>2.0</td>\n    </tr>\n    <tr>\n      <th>2</th>\n      <td>B-52-20729</td>\n      <td>1.0</td>\n      <td>Amazon Mobile (Mobile App)</td>\n      <td>0.0756</td>\n      <td>Amazon Sites</td>\n      <td>2.0</td>\n    </tr>\n    <tr>\n      <th>3</th>\n      <td>B-52-38817</td>\n      <td>2.0</td>\n      <td>Amazon Mobile (Mobile App)</td>\n      <td>0.0756</td>\n      <td>Amazon Sites</td>\n      <td>2.0</td>\n    </tr>\n    <tr>\n      <th>4</th>\n      <td>B-52-49381</td>\n      <td>2.0</td>\n      <td>Amazon Mobile (Mobile App)</td>\n      <td>0.1134</td>\n      <td>Amazon Sites</td>\n      <td>2.0</td>\n    </tr>\n    <tr>\n      <th>...</th>\n      <td>...</td>\n      <td>...</td>\n      <td>...</td>\n      <td>...</td>\n      <td>...</td>\n      <td>...</td>\n    </tr>\n    <tr>\n      <th>22435</th>\n      <td>B-52-17765</td>\n      <td>2.0</td>\n      <td>YouTube (Mobile App)</td>\n      <td>NaN</td>\n      <td>Google Sites</td>\n      <td>2.0</td>\n    </tr>\n    <tr>\n      <th>22436</th>\n      <td>B-52-12350</td>\n      <td>2.0</td>\n      <td>YouTube (Mobile App)</td>\n      <td>NaN</td>\n      <td>Google Sites</td>\n      <td>2.0</td>\n    </tr>\n    <tr>\n      <th>22437</th>\n      <td>B-52-30742</td>\n      <td>2.0</td>\n      <td>YouTube (Mobile App)</td>\n      <td>NaN</td>\n      <td>Google Sites</td>\n      <td>2.0</td>\n    </tr>\n    <tr>\n      <th>22438</th>\n      <td>B-52-16701</td>\n      <td>2.0</td>\n      <td>YouTube (Mobile App)</td>\n      <td>NaN</td>\n      <td>Google Sites</td>\n      <td>2.0</td>\n    </tr>\n    <tr>\n      <th>22439</th>\n      <td>B-52-41743</td>\n      <td>1.0</td>\n      <td>YouTube (Mobile App)</td>\n      <td>NaN</td>\n      <td>Google Sites</td>\n      <td>2.0</td>\n    </tr>\n  </tbody>\n</table>\n<p>22440 rows × 6 columns</p>\n</div>"
     },
     "execution_count": 29,
     "metadata": {},
     "output_type": "execute_result"
    }
   ],
   "source": [
    "import numpy as np\n",
    "import pandas as pd\n",
    "user_activity=pd.read_csv('Dataset/User_activity.txt')\n",
    "device_demographics=pd.read_csv('Dataset/device_demographics.csv')\n",
    "publishers=pd.read_csv('Dataset/publishers.csv')\n",
    "\n",
    "user_activity_clean=user_activity.drop_duplicates().T\n",
    "user_device_demographics_merge=user_activity_clean.merge(device_demographics,on='device_id')\n",
    "user_device_publisher=user_device_demographics_merge.merge(publishers,on='app_name').drop_duplicates()\n",
    "user_device_publisher=user_device_publisher[['device_id','gender_id','app_name','minutes','Publisher']].sort_values(['app_name','minutes'])\n",
    "\n",
    "app_publisher_gender=user_device_publisher.groupby(['app_name','Publisher'])['gender_id'].agg(pd.Series.mode)\n",
    "app_publisher_gender=pd.DataFrame(app_publisher_gender)\n",
    "\n",
    "# df= pd.merge(user_device_publisher,app_publisher_gender,on='app_name',how='left',suffixes=['_left', '_right'])\n",
    "# df\n",
    "# app_publisher_minutes=user_device_publisher.groupby(['app_name','Publisher'])['minutes'].agg(pd.Series.median)\n",
    "\n",
    "# app_publisher_minutes=pd.DataFrame(app_publisher_minutes)\n",
    "# app_publisher_minutes.groupby(\"app_name\")[\"minutes\"].agg(['median','std'])\n",
    "\n",
    "\n",
    "\n"
   ]
  }
 ],
 "metadata": {
  "kernelspec": {
   "display_name": "Python 3",
   "language": "python",
   "name": "python3"
  },
  "language_info": {
   "codemirror_mode": {
    "name": "ipython",
    "version": 2
   },
   "file_extension": ".py",
   "mimetype": "text/x-python",
   "name": "python",
   "nbconvert_exporter": "python",
   "pygments_lexer": "ipython2",
   "version": "2.7.6"
  }
 },
 "nbformat": 4,
 "nbformat_minor": 0
}